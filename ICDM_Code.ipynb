{
  "nbformat": 4,
  "nbformat_minor": 0,
  "metadata": {
    "colab": {
      "provenance": []
    },
    "kernelspec": {
      "name": "python3",
      "display_name": "Python 3"
    },
    "language_info": {
      "name": "python"
    }
  },
  "cells": [
    {
      "cell_type": "code",
      "source": [
        "pip install seaborn"
      ],
      "metadata": {
        "colab": {
          "base_uri": "https://localhost:8080/"
        },
        "id": "UaVUc-l_j8nk",
        "outputId": "3042902c-00be-4198-e501-35109569cf7c"
      },
      "execution_count": 8,
      "outputs": [
        {
          "output_type": "stream",
          "name": "stdout",
          "text": [
            "Requirement already satisfied: seaborn in /usr/local/lib/python3.11/dist-packages (0.13.2)\n",
            "Requirement already satisfied: numpy!=1.24.0,>=1.20 in /usr/local/lib/python3.11/dist-packages (from seaborn) (2.0.2)\n",
            "Requirement already satisfied: pandas>=1.2 in /usr/local/lib/python3.11/dist-packages (from seaborn) (2.2.2)\n",
            "Requirement already satisfied: matplotlib!=3.6.1,>=3.4 in /usr/local/lib/python3.11/dist-packages (from seaborn) (3.10.0)\n",
            "Requirement already satisfied: contourpy>=1.0.1 in /usr/local/lib/python3.11/dist-packages (from matplotlib!=3.6.1,>=3.4->seaborn) (1.3.2)\n",
            "Requirement already satisfied: cycler>=0.10 in /usr/local/lib/python3.11/dist-packages (from matplotlib!=3.6.1,>=3.4->seaborn) (0.12.1)\n",
            "Requirement already satisfied: fonttools>=4.22.0 in /usr/local/lib/python3.11/dist-packages (from matplotlib!=3.6.1,>=3.4->seaborn) (4.58.1)\n",
            "Requirement already satisfied: kiwisolver>=1.3.1 in /usr/local/lib/python3.11/dist-packages (from matplotlib!=3.6.1,>=3.4->seaborn) (1.4.8)\n",
            "Requirement already satisfied: packaging>=20.0 in /usr/local/lib/python3.11/dist-packages (from matplotlib!=3.6.1,>=3.4->seaborn) (24.2)\n",
            "Requirement already satisfied: pillow>=8 in /usr/local/lib/python3.11/dist-packages (from matplotlib!=3.6.1,>=3.4->seaborn) (11.2.1)\n",
            "Requirement already satisfied: pyparsing>=2.3.1 in /usr/local/lib/python3.11/dist-packages (from matplotlib!=3.6.1,>=3.4->seaborn) (3.2.3)\n",
            "Requirement already satisfied: python-dateutil>=2.7 in /usr/local/lib/python3.11/dist-packages (from matplotlib!=3.6.1,>=3.4->seaborn) (2.9.0.post0)\n",
            "Requirement already satisfied: pytz>=2020.1 in /usr/local/lib/python3.11/dist-packages (from pandas>=1.2->seaborn) (2025.2)\n",
            "Requirement already satisfied: tzdata>=2022.7 in /usr/local/lib/python3.11/dist-packages (from pandas>=1.2->seaborn) (2025.2)\n",
            "Requirement already satisfied: six>=1.5 in /usr/local/lib/python3.11/dist-packages (from python-dateutil>=2.7->matplotlib!=3.6.1,>=3.4->seaborn) (1.17.0)\n"
          ]
        }
      ]
    },
    {
      "cell_type": "code",
      "execution_count": 1,
      "metadata": {
        "colab": {
          "base_uri": "https://localhost:8080/"
        },
        "id": "zq90gK2QM2EQ",
        "outputId": "f40d4299-0ece-45a0-8147-26962f402e52"
      },
      "outputs": [
        {
          "output_type": "stream",
          "name": "stdout",
          "text": [
            "Downloading from https://www.kaggle.com/api/v1/datasets/download/danofer/compass?dataset_version_number=1...\n"
          ]
        },
        {
          "output_type": "stream",
          "name": "stderr",
          "text": [
            "100%|██████████| 2.72M/2.72M [00:00<00:00, 3.20MB/s]"
          ]
        },
        {
          "output_type": "stream",
          "name": "stdout",
          "text": [
            "Extracting files...\n"
          ]
        },
        {
          "output_type": "stream",
          "name": "stderr",
          "text": [
            "\n"
          ]
        },
        {
          "output_type": "stream",
          "name": "stdout",
          "text": [
            "Path to dataset files: /root/.cache/kagglehub/datasets/danofer/compass/versions/1\n"
          ]
        }
      ],
      "source": [
        "import kagglehub\n",
        "\n",
        "# Download latest version\n",
        "path = kagglehub.dataset_download(\"danofer/compass\")\n",
        "\n",
        "print(\"Path to dataset files:\", path)"
      ]
    },
    {
      "cell_type": "code",
      "source": [
        "# Import necessary libraries for data manipulation and modeling\n",
        "import numpy as np\n",
        "import pandas as pd\n",
        "import matplotlib.pyplot as plt\n",
        "import seaborn as sns\n",
        "from sklearn.linear_model import LogisticRegression\n",
        "from sklearn.tree import DecisionTreeClassifier\n",
        "from sklearn.ensemble import RandomForestClassifier\n",
        "from sklearn.svm import SVC\n",
        "from sklearn.model_selection import train_test_split\n",
        "from sklearn.metrics import accuracy_score\n",
        "from fairlearn.metrics import MetricFrame, demographic_parity_difference"
      ],
      "metadata": {
        "id": "KBjw6aMGjnGr"
      },
      "execution_count": 9,
      "outputs": []
    },
    {
      "cell_type": "code",
      "source": [
        "# ======================\n",
        "# Phase 1: Data Ingestion & Preprocessing\n",
        "# ======================\n",
        "# Load the COMPAS dataset (download at: https://www.kaggle.com/datasets/danofer/compass)\n",
        "df = pd.read_csv('/content/compas-scores-raw.csv')"
      ],
      "metadata": {
        "id": "-T0jJhlujmrP"
      },
      "execution_count": 13,
      "outputs": []
    },
    {
      "cell_type": "code",
      "source": [
        "df"
      ],
      "metadata": {
        "colab": {
          "base_uri": "https://localhost:8080/",
          "height": 669
        },
        "id": "mFT-fmX2mbqp",
        "outputId": "af7877bc-bdcc-40bd-813f-3a7af5358042"
      },
      "execution_count": 14,
      "outputs": [
        {
          "output_type": "execute_result",
          "data": {
            "text/plain": [
              "       Person_ID  AssessmentID  Case_ID Agency_Text LastName FirstName  \\\n",
              "0          50844         57167    51950    PRETRIAL   Fisher     Kevin   \n",
              "1          50844         57167    51950    PRETRIAL   Fisher     Kevin   \n",
              "2          50844         57167    51950    PRETRIAL   Fisher     Kevin   \n",
              "3          50848         57174    51956    PRETRIAL  KENDALL     KEVIN   \n",
              "4          50848         57174    51956    PRETRIAL  KENDALL     KEVIN   \n",
              "...          ...           ...      ...         ...      ...       ...   \n",
              "60838      65667         79665    72038   Probation     West     James   \n",
              "60839      65667         79665    72038   Probation     West     James   \n",
              "60840      68603         79669    72042    PRETRIAL     Ryan   Michael   \n",
              "60841      68603         79669    72042    PRETRIAL     Ryan   Michael   \n",
              "60842      68603         79669    72042    PRETRIAL     Ryan   Michael   \n",
              "\n",
              "      MiddleName Sex_Code_Text  Ethnic_Code_Text DateOfBirth  ...  \\\n",
              "0            NaN          Male         Caucasian    12/05/92  ...   \n",
              "1            NaN          Male         Caucasian    12/05/92  ...   \n",
              "2            NaN          Male         Caucasian    12/05/92  ...   \n",
              "3            NaN          Male         Caucasian    09/16/84  ...   \n",
              "4            NaN          Male         Caucasian    09/16/84  ...   \n",
              "...          ...           ...               ...         ...  ...   \n",
              "60838        NaN          Male  African-American    06/21/64  ...   \n",
              "60839        NaN          Male  African-American    06/21/64  ...   \n",
              "60840        NaN          Male         Caucasian    02/06/85  ...   \n",
              "60841        NaN          Male         Caucasian    02/06/85  ...   \n",
              "60842        NaN          Male         Caucasian    02/06/85  ...   \n",
              "\n",
              "       RecSupervisionLevel             RecSupervisionLevelText Scale_ID  \\\n",
              "0                        1                                 Low        7   \n",
              "1                        1                                 Low        8   \n",
              "2                        1                                 Low       18   \n",
              "3                        1                                 Low        7   \n",
              "4                        1                                 Low        8   \n",
              "...                    ...                                 ...      ...   \n",
              "60838                    3  Medium with Override Consideration        8   \n",
              "60839                    3  Medium with Override Consideration       18   \n",
              "60840                    1                                 Low        7   \n",
              "60841                    1                                 Low        8   \n",
              "60842                    1                                 Low       18   \n",
              "\n",
              "                     DisplayText RawScore DecileScore ScoreText  \\\n",
              "0               Risk of Violence    -2.08           4       Low   \n",
              "1             Risk of Recidivism    -1.06           2       Low   \n",
              "2      Risk of Failure to Appear    15.00           1       Low   \n",
              "3               Risk of Violence    -2.84           2       Low   \n",
              "4             Risk of Recidivism    -1.50           1       Low   \n",
              "...                          ...      ...         ...       ...   \n",
              "60838         Risk of Recidivism     0.16           8      High   \n",
              "60839  Risk of Failure to Appear    35.00          10      High   \n",
              "60840           Risk of Violence    -2.75           2       Low   \n",
              "60841         Risk of Recidivism    -0.34           5    Medium   \n",
              "60842  Risk of Failure to Appear    16.00           2       Low   \n",
              "\n",
              "      AssessmentType  IsCompleted IsDeleted  \n",
              "0                New            1         0  \n",
              "1                New            1         0  \n",
              "2                New            1         0  \n",
              "3                New            1         0  \n",
              "4                New            1         0  \n",
              "...              ...          ...       ...  \n",
              "60838            New            1         0  \n",
              "60839            New            1         0  \n",
              "60840            New            1         0  \n",
              "60841            New            1         0  \n",
              "60842            New            1         0  \n",
              "\n",
              "[60843 rows x 28 columns]"
            ],
            "text/html": [
              "\n",
              "  <div id=\"df-ededdc83-0b55-4cfe-8bcc-ea5ce0ba59fa\" class=\"colab-df-container\">\n",
              "    <div>\n",
              "<style scoped>\n",
              "    .dataframe tbody tr th:only-of-type {\n",
              "        vertical-align: middle;\n",
              "    }\n",
              "\n",
              "    .dataframe tbody tr th {\n",
              "        vertical-align: top;\n",
              "    }\n",
              "\n",
              "    .dataframe thead th {\n",
              "        text-align: right;\n",
              "    }\n",
              "</style>\n",
              "<table border=\"1\" class=\"dataframe\">\n",
              "  <thead>\n",
              "    <tr style=\"text-align: right;\">\n",
              "      <th></th>\n",
              "      <th>Person_ID</th>\n",
              "      <th>AssessmentID</th>\n",
              "      <th>Case_ID</th>\n",
              "      <th>Agency_Text</th>\n",
              "      <th>LastName</th>\n",
              "      <th>FirstName</th>\n",
              "      <th>MiddleName</th>\n",
              "      <th>Sex_Code_Text</th>\n",
              "      <th>Ethnic_Code_Text</th>\n",
              "      <th>DateOfBirth</th>\n",
              "      <th>...</th>\n",
              "      <th>RecSupervisionLevel</th>\n",
              "      <th>RecSupervisionLevelText</th>\n",
              "      <th>Scale_ID</th>\n",
              "      <th>DisplayText</th>\n",
              "      <th>RawScore</th>\n",
              "      <th>DecileScore</th>\n",
              "      <th>ScoreText</th>\n",
              "      <th>AssessmentType</th>\n",
              "      <th>IsCompleted</th>\n",
              "      <th>IsDeleted</th>\n",
              "    </tr>\n",
              "  </thead>\n",
              "  <tbody>\n",
              "    <tr>\n",
              "      <th>0</th>\n",
              "      <td>50844</td>\n",
              "      <td>57167</td>\n",
              "      <td>51950</td>\n",
              "      <td>PRETRIAL</td>\n",
              "      <td>Fisher</td>\n",
              "      <td>Kevin</td>\n",
              "      <td>NaN</td>\n",
              "      <td>Male</td>\n",
              "      <td>Caucasian</td>\n",
              "      <td>12/05/92</td>\n",
              "      <td>...</td>\n",
              "      <td>1</td>\n",
              "      <td>Low</td>\n",
              "      <td>7</td>\n",
              "      <td>Risk of Violence</td>\n",
              "      <td>-2.08</td>\n",
              "      <td>4</td>\n",
              "      <td>Low</td>\n",
              "      <td>New</td>\n",
              "      <td>1</td>\n",
              "      <td>0</td>\n",
              "    </tr>\n",
              "    <tr>\n",
              "      <th>1</th>\n",
              "      <td>50844</td>\n",
              "      <td>57167</td>\n",
              "      <td>51950</td>\n",
              "      <td>PRETRIAL</td>\n",
              "      <td>Fisher</td>\n",
              "      <td>Kevin</td>\n",
              "      <td>NaN</td>\n",
              "      <td>Male</td>\n",
              "      <td>Caucasian</td>\n",
              "      <td>12/05/92</td>\n",
              "      <td>...</td>\n",
              "      <td>1</td>\n",
              "      <td>Low</td>\n",
              "      <td>8</td>\n",
              "      <td>Risk of Recidivism</td>\n",
              "      <td>-1.06</td>\n",
              "      <td>2</td>\n",
              "      <td>Low</td>\n",
              "      <td>New</td>\n",
              "      <td>1</td>\n",
              "      <td>0</td>\n",
              "    </tr>\n",
              "    <tr>\n",
              "      <th>2</th>\n",
              "      <td>50844</td>\n",
              "      <td>57167</td>\n",
              "      <td>51950</td>\n",
              "      <td>PRETRIAL</td>\n",
              "      <td>Fisher</td>\n",
              "      <td>Kevin</td>\n",
              "      <td>NaN</td>\n",
              "      <td>Male</td>\n",
              "      <td>Caucasian</td>\n",
              "      <td>12/05/92</td>\n",
              "      <td>...</td>\n",
              "      <td>1</td>\n",
              "      <td>Low</td>\n",
              "      <td>18</td>\n",
              "      <td>Risk of Failure to Appear</td>\n",
              "      <td>15.00</td>\n",
              "      <td>1</td>\n",
              "      <td>Low</td>\n",
              "      <td>New</td>\n",
              "      <td>1</td>\n",
              "      <td>0</td>\n",
              "    </tr>\n",
              "    <tr>\n",
              "      <th>3</th>\n",
              "      <td>50848</td>\n",
              "      <td>57174</td>\n",
              "      <td>51956</td>\n",
              "      <td>PRETRIAL</td>\n",
              "      <td>KENDALL</td>\n",
              "      <td>KEVIN</td>\n",
              "      <td>NaN</td>\n",
              "      <td>Male</td>\n",
              "      <td>Caucasian</td>\n",
              "      <td>09/16/84</td>\n",
              "      <td>...</td>\n",
              "      <td>1</td>\n",
              "      <td>Low</td>\n",
              "      <td>7</td>\n",
              "      <td>Risk of Violence</td>\n",
              "      <td>-2.84</td>\n",
              "      <td>2</td>\n",
              "      <td>Low</td>\n",
              "      <td>New</td>\n",
              "      <td>1</td>\n",
              "      <td>0</td>\n",
              "    </tr>\n",
              "    <tr>\n",
              "      <th>4</th>\n",
              "      <td>50848</td>\n",
              "      <td>57174</td>\n",
              "      <td>51956</td>\n",
              "      <td>PRETRIAL</td>\n",
              "      <td>KENDALL</td>\n",
              "      <td>KEVIN</td>\n",
              "      <td>NaN</td>\n",
              "      <td>Male</td>\n",
              "      <td>Caucasian</td>\n",
              "      <td>09/16/84</td>\n",
              "      <td>...</td>\n",
              "      <td>1</td>\n",
              "      <td>Low</td>\n",
              "      <td>8</td>\n",
              "      <td>Risk of Recidivism</td>\n",
              "      <td>-1.50</td>\n",
              "      <td>1</td>\n",
              "      <td>Low</td>\n",
              "      <td>New</td>\n",
              "      <td>1</td>\n",
              "      <td>0</td>\n",
              "    </tr>\n",
              "    <tr>\n",
              "      <th>...</th>\n",
              "      <td>...</td>\n",
              "      <td>...</td>\n",
              "      <td>...</td>\n",
              "      <td>...</td>\n",
              "      <td>...</td>\n",
              "      <td>...</td>\n",
              "      <td>...</td>\n",
              "      <td>...</td>\n",
              "      <td>...</td>\n",
              "      <td>...</td>\n",
              "      <td>...</td>\n",
              "      <td>...</td>\n",
              "      <td>...</td>\n",
              "      <td>...</td>\n",
              "      <td>...</td>\n",
              "      <td>...</td>\n",
              "      <td>...</td>\n",
              "      <td>...</td>\n",
              "      <td>...</td>\n",
              "      <td>...</td>\n",
              "      <td>...</td>\n",
              "    </tr>\n",
              "    <tr>\n",
              "      <th>60838</th>\n",
              "      <td>65667</td>\n",
              "      <td>79665</td>\n",
              "      <td>72038</td>\n",
              "      <td>Probation</td>\n",
              "      <td>West</td>\n",
              "      <td>James</td>\n",
              "      <td>NaN</td>\n",
              "      <td>Male</td>\n",
              "      <td>African-American</td>\n",
              "      <td>06/21/64</td>\n",
              "      <td>...</td>\n",
              "      <td>3</td>\n",
              "      <td>Medium with Override Consideration</td>\n",
              "      <td>8</td>\n",
              "      <td>Risk of Recidivism</td>\n",
              "      <td>0.16</td>\n",
              "      <td>8</td>\n",
              "      <td>High</td>\n",
              "      <td>New</td>\n",
              "      <td>1</td>\n",
              "      <td>0</td>\n",
              "    </tr>\n",
              "    <tr>\n",
              "      <th>60839</th>\n",
              "      <td>65667</td>\n",
              "      <td>79665</td>\n",
              "      <td>72038</td>\n",
              "      <td>Probation</td>\n",
              "      <td>West</td>\n",
              "      <td>James</td>\n",
              "      <td>NaN</td>\n",
              "      <td>Male</td>\n",
              "      <td>African-American</td>\n",
              "      <td>06/21/64</td>\n",
              "      <td>...</td>\n",
              "      <td>3</td>\n",
              "      <td>Medium with Override Consideration</td>\n",
              "      <td>18</td>\n",
              "      <td>Risk of Failure to Appear</td>\n",
              "      <td>35.00</td>\n",
              "      <td>10</td>\n",
              "      <td>High</td>\n",
              "      <td>New</td>\n",
              "      <td>1</td>\n",
              "      <td>0</td>\n",
              "    </tr>\n",
              "    <tr>\n",
              "      <th>60840</th>\n",
              "      <td>68603</td>\n",
              "      <td>79669</td>\n",
              "      <td>72042</td>\n",
              "      <td>PRETRIAL</td>\n",
              "      <td>Ryan</td>\n",
              "      <td>Michael</td>\n",
              "      <td>NaN</td>\n",
              "      <td>Male</td>\n",
              "      <td>Caucasian</td>\n",
              "      <td>02/06/85</td>\n",
              "      <td>...</td>\n",
              "      <td>1</td>\n",
              "      <td>Low</td>\n",
              "      <td>7</td>\n",
              "      <td>Risk of Violence</td>\n",
              "      <td>-2.75</td>\n",
              "      <td>2</td>\n",
              "      <td>Low</td>\n",
              "      <td>New</td>\n",
              "      <td>1</td>\n",
              "      <td>0</td>\n",
              "    </tr>\n",
              "    <tr>\n",
              "      <th>60841</th>\n",
              "      <td>68603</td>\n",
              "      <td>79669</td>\n",
              "      <td>72042</td>\n",
              "      <td>PRETRIAL</td>\n",
              "      <td>Ryan</td>\n",
              "      <td>Michael</td>\n",
              "      <td>NaN</td>\n",
              "      <td>Male</td>\n",
              "      <td>Caucasian</td>\n",
              "      <td>02/06/85</td>\n",
              "      <td>...</td>\n",
              "      <td>1</td>\n",
              "      <td>Low</td>\n",
              "      <td>8</td>\n",
              "      <td>Risk of Recidivism</td>\n",
              "      <td>-0.34</td>\n",
              "      <td>5</td>\n",
              "      <td>Medium</td>\n",
              "      <td>New</td>\n",
              "      <td>1</td>\n",
              "      <td>0</td>\n",
              "    </tr>\n",
              "    <tr>\n",
              "      <th>60842</th>\n",
              "      <td>68603</td>\n",
              "      <td>79669</td>\n",
              "      <td>72042</td>\n",
              "      <td>PRETRIAL</td>\n",
              "      <td>Ryan</td>\n",
              "      <td>Michael</td>\n",
              "      <td>NaN</td>\n",
              "      <td>Male</td>\n",
              "      <td>Caucasian</td>\n",
              "      <td>02/06/85</td>\n",
              "      <td>...</td>\n",
              "      <td>1</td>\n",
              "      <td>Low</td>\n",
              "      <td>18</td>\n",
              "      <td>Risk of Failure to Appear</td>\n",
              "      <td>16.00</td>\n",
              "      <td>2</td>\n",
              "      <td>Low</td>\n",
              "      <td>New</td>\n",
              "      <td>1</td>\n",
              "      <td>0</td>\n",
              "    </tr>\n",
              "  </tbody>\n",
              "</table>\n",
              "<p>60843 rows × 28 columns</p>\n",
              "</div>\n",
              "    <div class=\"colab-df-buttons\">\n",
              "\n",
              "  <div class=\"colab-df-container\">\n",
              "    <button class=\"colab-df-convert\" onclick=\"convertToInteractive('df-ededdc83-0b55-4cfe-8bcc-ea5ce0ba59fa')\"\n",
              "            title=\"Convert this dataframe to an interactive table.\"\n",
              "            style=\"display:none;\">\n",
              "\n",
              "  <svg xmlns=\"http://www.w3.org/2000/svg\" height=\"24px\" viewBox=\"0 -960 960 960\">\n",
              "    <path d=\"M120-120v-720h720v720H120Zm60-500h600v-160H180v160Zm220 220h160v-160H400v160Zm0 220h160v-160H400v160ZM180-400h160v-160H180v160Zm440 0h160v-160H620v160ZM180-180h160v-160H180v160Zm440 0h160v-160H620v160Z\"/>\n",
              "  </svg>\n",
              "    </button>\n",
              "\n",
              "  <style>\n",
              "    .colab-df-container {\n",
              "      display:flex;\n",
              "      gap: 12px;\n",
              "    }\n",
              "\n",
              "    .colab-df-convert {\n",
              "      background-color: #E8F0FE;\n",
              "      border: none;\n",
              "      border-radius: 50%;\n",
              "      cursor: pointer;\n",
              "      display: none;\n",
              "      fill: #1967D2;\n",
              "      height: 32px;\n",
              "      padding: 0 0 0 0;\n",
              "      width: 32px;\n",
              "    }\n",
              "\n",
              "    .colab-df-convert:hover {\n",
              "      background-color: #E2EBFA;\n",
              "      box-shadow: 0px 1px 2px rgba(60, 64, 67, 0.3), 0px 1px 3px 1px rgba(60, 64, 67, 0.15);\n",
              "      fill: #174EA6;\n",
              "    }\n",
              "\n",
              "    .colab-df-buttons div {\n",
              "      margin-bottom: 4px;\n",
              "    }\n",
              "\n",
              "    [theme=dark] .colab-df-convert {\n",
              "      background-color: #3B4455;\n",
              "      fill: #D2E3FC;\n",
              "    }\n",
              "\n",
              "    [theme=dark] .colab-df-convert:hover {\n",
              "      background-color: #434B5C;\n",
              "      box-shadow: 0px 1px 3px 1px rgba(0, 0, 0, 0.15);\n",
              "      filter: drop-shadow(0px 1px 2px rgba(0, 0, 0, 0.3));\n",
              "      fill: #FFFFFF;\n",
              "    }\n",
              "  </style>\n",
              "\n",
              "    <script>\n",
              "      const buttonEl =\n",
              "        document.querySelector('#df-ededdc83-0b55-4cfe-8bcc-ea5ce0ba59fa button.colab-df-convert');\n",
              "      buttonEl.style.display =\n",
              "        google.colab.kernel.accessAllowed ? 'block' : 'none';\n",
              "\n",
              "      async function convertToInteractive(key) {\n",
              "        const element = document.querySelector('#df-ededdc83-0b55-4cfe-8bcc-ea5ce0ba59fa');\n",
              "        const dataTable =\n",
              "          await google.colab.kernel.invokeFunction('convertToInteractive',\n",
              "                                                    [key], {});\n",
              "        if (!dataTable) return;\n",
              "\n",
              "        const docLinkHtml = 'Like what you see? Visit the ' +\n",
              "          '<a target=\"_blank\" href=https://colab.research.google.com/notebooks/data_table.ipynb>data table notebook</a>'\n",
              "          + ' to learn more about interactive tables.';\n",
              "        element.innerHTML = '';\n",
              "        dataTable['output_type'] = 'display_data';\n",
              "        await google.colab.output.renderOutput(dataTable, element);\n",
              "        const docLink = document.createElement('div');\n",
              "        docLink.innerHTML = docLinkHtml;\n",
              "        element.appendChild(docLink);\n",
              "      }\n",
              "    </script>\n",
              "  </div>\n",
              "\n",
              "\n",
              "    <div id=\"df-35a23d0e-7215-4faa-9c20-2e085bb5fe2c\">\n",
              "      <button class=\"colab-df-quickchart\" onclick=\"quickchart('df-35a23d0e-7215-4faa-9c20-2e085bb5fe2c')\"\n",
              "                title=\"Suggest charts\"\n",
              "                style=\"display:none;\">\n",
              "\n",
              "<svg xmlns=\"http://www.w3.org/2000/svg\" height=\"24px\"viewBox=\"0 0 24 24\"\n",
              "     width=\"24px\">\n",
              "    <g>\n",
              "        <path d=\"M19 3H5c-1.1 0-2 .9-2 2v14c0 1.1.9 2 2 2h14c1.1 0 2-.9 2-2V5c0-1.1-.9-2-2-2zM9 17H7v-7h2v7zm4 0h-2V7h2v10zm4 0h-2v-4h2v4z\"/>\n",
              "    </g>\n",
              "</svg>\n",
              "      </button>\n",
              "\n",
              "<style>\n",
              "  .colab-df-quickchart {\n",
              "      --bg-color: #E8F0FE;\n",
              "      --fill-color: #1967D2;\n",
              "      --hover-bg-color: #E2EBFA;\n",
              "      --hover-fill-color: #174EA6;\n",
              "      --disabled-fill-color: #AAA;\n",
              "      --disabled-bg-color: #DDD;\n",
              "  }\n",
              "\n",
              "  [theme=dark] .colab-df-quickchart {\n",
              "      --bg-color: #3B4455;\n",
              "      --fill-color: #D2E3FC;\n",
              "      --hover-bg-color: #434B5C;\n",
              "      --hover-fill-color: #FFFFFF;\n",
              "      --disabled-bg-color: #3B4455;\n",
              "      --disabled-fill-color: #666;\n",
              "  }\n",
              "\n",
              "  .colab-df-quickchart {\n",
              "    background-color: var(--bg-color);\n",
              "    border: none;\n",
              "    border-radius: 50%;\n",
              "    cursor: pointer;\n",
              "    display: none;\n",
              "    fill: var(--fill-color);\n",
              "    height: 32px;\n",
              "    padding: 0;\n",
              "    width: 32px;\n",
              "  }\n",
              "\n",
              "  .colab-df-quickchart:hover {\n",
              "    background-color: var(--hover-bg-color);\n",
              "    box-shadow: 0 1px 2px rgba(60, 64, 67, 0.3), 0 1px 3px 1px rgba(60, 64, 67, 0.15);\n",
              "    fill: var(--button-hover-fill-color);\n",
              "  }\n",
              "\n",
              "  .colab-df-quickchart-complete:disabled,\n",
              "  .colab-df-quickchart-complete:disabled:hover {\n",
              "    background-color: var(--disabled-bg-color);\n",
              "    fill: var(--disabled-fill-color);\n",
              "    box-shadow: none;\n",
              "  }\n",
              "\n",
              "  .colab-df-spinner {\n",
              "    border: 2px solid var(--fill-color);\n",
              "    border-color: transparent;\n",
              "    border-bottom-color: var(--fill-color);\n",
              "    animation:\n",
              "      spin 1s steps(1) infinite;\n",
              "  }\n",
              "\n",
              "  @keyframes spin {\n",
              "    0% {\n",
              "      border-color: transparent;\n",
              "      border-bottom-color: var(--fill-color);\n",
              "      border-left-color: var(--fill-color);\n",
              "    }\n",
              "    20% {\n",
              "      border-color: transparent;\n",
              "      border-left-color: var(--fill-color);\n",
              "      border-top-color: var(--fill-color);\n",
              "    }\n",
              "    30% {\n",
              "      border-color: transparent;\n",
              "      border-left-color: var(--fill-color);\n",
              "      border-top-color: var(--fill-color);\n",
              "      border-right-color: var(--fill-color);\n",
              "    }\n",
              "    40% {\n",
              "      border-color: transparent;\n",
              "      border-right-color: var(--fill-color);\n",
              "      border-top-color: var(--fill-color);\n",
              "    }\n",
              "    60% {\n",
              "      border-color: transparent;\n",
              "      border-right-color: var(--fill-color);\n",
              "    }\n",
              "    80% {\n",
              "      border-color: transparent;\n",
              "      border-right-color: var(--fill-color);\n",
              "      border-bottom-color: var(--fill-color);\n",
              "    }\n",
              "    90% {\n",
              "      border-color: transparent;\n",
              "      border-bottom-color: var(--fill-color);\n",
              "    }\n",
              "  }\n",
              "</style>\n",
              "\n",
              "      <script>\n",
              "        async function quickchart(key) {\n",
              "          const quickchartButtonEl =\n",
              "            document.querySelector('#' + key + ' button');\n",
              "          quickchartButtonEl.disabled = true;  // To prevent multiple clicks.\n",
              "          quickchartButtonEl.classList.add('colab-df-spinner');\n",
              "          try {\n",
              "            const charts = await google.colab.kernel.invokeFunction(\n",
              "                'suggestCharts', [key], {});\n",
              "          } catch (error) {\n",
              "            console.error('Error during call to suggestCharts:', error);\n",
              "          }\n",
              "          quickchartButtonEl.classList.remove('colab-df-spinner');\n",
              "          quickchartButtonEl.classList.add('colab-df-quickchart-complete');\n",
              "        }\n",
              "        (() => {\n",
              "          let quickchartButtonEl =\n",
              "            document.querySelector('#df-35a23d0e-7215-4faa-9c20-2e085bb5fe2c button');\n",
              "          quickchartButtonEl.style.display =\n",
              "            google.colab.kernel.accessAllowed ? 'block' : 'none';\n",
              "        })();\n",
              "      </script>\n",
              "    </div>\n",
              "\n",
              "  <div id=\"id_46d3756c-2584-44f5-b39c-d20fd0c9293f\">\n",
              "    <style>\n",
              "      .colab-df-generate {\n",
              "        background-color: #E8F0FE;\n",
              "        border: none;\n",
              "        border-radius: 50%;\n",
              "        cursor: pointer;\n",
              "        display: none;\n",
              "        fill: #1967D2;\n",
              "        height: 32px;\n",
              "        padding: 0 0 0 0;\n",
              "        width: 32px;\n",
              "      }\n",
              "\n",
              "      .colab-df-generate:hover {\n",
              "        background-color: #E2EBFA;\n",
              "        box-shadow: 0px 1px 2px rgba(60, 64, 67, 0.3), 0px 1px 3px 1px rgba(60, 64, 67, 0.15);\n",
              "        fill: #174EA6;\n",
              "      }\n",
              "\n",
              "      [theme=dark] .colab-df-generate {\n",
              "        background-color: #3B4455;\n",
              "        fill: #D2E3FC;\n",
              "      }\n",
              "\n",
              "      [theme=dark] .colab-df-generate:hover {\n",
              "        background-color: #434B5C;\n",
              "        box-shadow: 0px 1px 3px 1px rgba(0, 0, 0, 0.15);\n",
              "        filter: drop-shadow(0px 1px 2px rgba(0, 0, 0, 0.3));\n",
              "        fill: #FFFFFF;\n",
              "      }\n",
              "    </style>\n",
              "    <button class=\"colab-df-generate\" onclick=\"generateWithVariable('df')\"\n",
              "            title=\"Generate code using this dataframe.\"\n",
              "            style=\"display:none;\">\n",
              "\n",
              "  <svg xmlns=\"http://www.w3.org/2000/svg\" height=\"24px\"viewBox=\"0 0 24 24\"\n",
              "       width=\"24px\">\n",
              "    <path d=\"M7,19H8.4L18.45,9,17,7.55,7,17.6ZM5,21V16.75L18.45,3.32a2,2,0,0,1,2.83,0l1.4,1.43a1.91,1.91,0,0,1,.58,1.4,1.91,1.91,0,0,1-.58,1.4L9.25,21ZM18.45,9,17,7.55Zm-12,3A5.31,5.31,0,0,0,4.9,8.1,5.31,5.31,0,0,0,1,6.5,5.31,5.31,0,0,0,4.9,4.9,5.31,5.31,0,0,0,6.5,1,5.31,5.31,0,0,0,8.1,4.9,5.31,5.31,0,0,0,12,6.5,5.46,5.46,0,0,0,6.5,12Z\"/>\n",
              "  </svg>\n",
              "    </button>\n",
              "    <script>\n",
              "      (() => {\n",
              "      const buttonEl =\n",
              "        document.querySelector('#id_46d3756c-2584-44f5-b39c-d20fd0c9293f button.colab-df-generate');\n",
              "      buttonEl.style.display =\n",
              "        google.colab.kernel.accessAllowed ? 'block' : 'none';\n",
              "\n",
              "      buttonEl.onclick = () => {\n",
              "        google.colab.notebook.generateWithVariable('df');\n",
              "      }\n",
              "      })();\n",
              "    </script>\n",
              "  </div>\n",
              "\n",
              "    </div>\n",
              "  </div>\n"
            ],
            "application/vnd.google.colaboratory.intrinsic+json": {
              "type": "dataframe",
              "variable_name": "df"
            }
          },
          "metadata": {},
          "execution_count": 14
        }
      ]
    },
    {
      "cell_type": "code",
      "source": [
        "df.shape"
      ],
      "metadata": {
        "colab": {
          "base_uri": "https://localhost:8080/"
        },
        "id": "nagsf956oaA4",
        "outputId": "bed3193f-7b91-4466-bc4b-1b439afa62fb"
      },
      "execution_count": 18,
      "outputs": [
        {
          "output_type": "execute_result",
          "data": {
            "text/plain": [
              "(60843, 28)"
            ]
          },
          "metadata": {},
          "execution_count": 18
        }
      ]
    },
    {
      "cell_type": "code",
      "source": [
        "df.columns"
      ],
      "metadata": {
        "colab": {
          "base_uri": "https://localhost:8080/"
        },
        "id": "N-0iZdP6mrk6",
        "outputId": "5a781c93-ee8f-4c1d-be56-058a08b139bf"
      },
      "execution_count": 16,
      "outputs": [
        {
          "output_type": "execute_result",
          "data": {
            "text/plain": [
              "Index(['Person_ID', 'AssessmentID', 'Case_ID', 'Agency_Text', 'LastName',\n",
              "       'FirstName', 'MiddleName', 'Sex_Code_Text', 'Ethnic_Code_Text',\n",
              "       'DateOfBirth', 'ScaleSet_ID', 'ScaleSet', 'AssessmentReason',\n",
              "       'Language', 'LegalStatus', 'CustodyStatus', 'MaritalStatus',\n",
              "       'Screening_Date', 'RecSupervisionLevel', 'RecSupervisionLevelText',\n",
              "       'Scale_ID', 'DisplayText', 'RawScore', 'DecileScore', 'ScoreText',\n",
              "       'AssessmentType', 'IsCompleted', 'IsDeleted'],\n",
              "      dtype='object')"
            ]
          },
          "metadata": {},
          "execution_count": 16
        }
      ]
    },
    {
      "cell_type": "code",
      "source": [
        "# Select relevant columns for recidivism prediction\n",
        "df = df[['Sex_Code_Text', 'Ethnic_Code_Text', 'DecileScore']]\n",
        "\n"
      ],
      "metadata": {
        "id": "Y7VUj9W8lUbR"
      },
      "execution_count": 19,
      "outputs": []
    },
    {
      "cell_type": "code",
      "source": [
        "# Create binary target variable based on DecileScore.\n",
        "df['recidivism'] = df['DecileScore'].apply(lambda x: 1 if x >= 5 else 0)"
      ],
      "metadata": {
        "colab": {
          "base_uri": "https://localhost:8080/"
        },
        "id": "zIRv5qv9mmi3",
        "outputId": "5a26a6d4-1392-4c39-eacb-b303765d0ab2"
      },
      "execution_count": 20,
      "outputs": [
        {
          "output_type": "stream",
          "name": "stderr",
          "text": [
            "<ipython-input-20-7e5a3f675c1e>:2: SettingWithCopyWarning: \n",
            "A value is trying to be set on a copy of a slice from a DataFrame.\n",
            "Try using .loc[row_indexer,col_indexer] = value instead\n",
            "\n",
            "See the caveats in the documentation: https://pandas.pydata.org/pandas-docs/stable/user_guide/indexing.html#returning-a-view-versus-a-copy\n",
            "  df['recidivism'] = df['DecileScore'].apply(lambda x: 1 if x >= 5 else 0)\n"
          ]
        }
      ]
    },
    {
      "cell_type": "code",
      "source": [
        "# Encode categorical variables:\n",
        "# Map Sex_Code_Text to numeric (for example, if values are 'Male' and 'Female')\n",
        "df['sex'] = df['Sex_Code_Text'].map({'Male': 1, 'Female': 0})"
      ],
      "metadata": {
        "colab": {
          "base_uri": "https://localhost:8080/"
        },
        "id": "EsmLM3q-uKMB",
        "outputId": "81b054f9-0337-4f58-b712-fe938b29785c"
      },
      "execution_count": 21,
      "outputs": [
        {
          "output_type": "stream",
          "name": "stderr",
          "text": [
            "<ipython-input-21-8c228176162a>:3: SettingWithCopyWarning: \n",
            "A value is trying to be set on a copy of a slice from a DataFrame.\n",
            "Try using .loc[row_indexer,col_indexer] = value instead\n",
            "\n",
            "See the caveats in the documentation: https://pandas.pydata.org/pandas-docs/stable/user_guide/indexing.html#returning-a-view-versus-a-copy\n",
            "  df['sex'] = df['Sex_Code_Text'].map({'Male': 1, 'Female': 0})\n"
          ]
        }
      ]
    },
    {
      "cell_type": "code",
      "source": [
        "# The sensitive attribute is 'Ethnic_Code_Text'.\n",
        "sensitive_attr = df['Ethnic_Code_Text']"
      ],
      "metadata": {
        "id": "-SLtQgjfuJ_9"
      },
      "execution_count": 22,
      "outputs": []
    },
    {
      "cell_type": "code",
      "source": [
        "# Define feature matrix X and target vector y.\n",
        "# We use 'sex' and 'DecileScore' as features.\n",
        "X = df[['sex', 'DecileScore']]\n",
        "y = df['recidivism']"
      ],
      "metadata": {
        "id": "4GoD1nwxuJ2s"
      },
      "execution_count": 23,
      "outputs": []
    },
    {
      "cell_type": "code",
      "source": [
        "# Split the dataset into training and testing sets (70%/30% split).\n",
        "X_train, X_test, y_train, y_test, s_train, s_test = train_test_split(\n",
        "    X, y, sensitive_attr, test_size=0.3, random_state=42)"
      ],
      "metadata": {
        "id": "anzefWC3uJqS"
      },
      "execution_count": 24,
      "outputs": []
    },
    {
      "cell_type": "markdown",
      "source": [
        "# ======================\n",
        "### Phase 2: Baseline Modeling with Fairlearn\n",
        "# ======================"
      ],
      "metadata": {
        "id": "oiUdVnAvughi"
      }
    },
    {
      "cell_type": "code",
      "source": [
        "from fairlearn.metrics import MetricFrame\n",
        "import numpy as np\n",
        "\n",
        "def evaluate_fairness(y_true, y_pred, sensitive_features):\n",
        "    mf = MetricFrame(\n",
        "        metrics={'prediction_mean': lambda y_true, y_pred: np.mean(y_pred)},\n",
        "        y_true=y_true,\n",
        "        y_pred=y_pred,\n",
        "        sensitive_features=sensitive_features\n",
        "    )\n",
        "\n",
        "    demographic_parity_diff = mf.by_group['prediction_mean'].max() - mf.by_group['prediction_mean'].min()\n",
        "    return mf.by_group, demographic_parity_diff\n"
      ],
      "metadata": {
        "id": "uDByB_dRuJa7"
      },
      "execution_count": 49,
      "outputs": []
    },
    {
      "cell_type": "code",
      "source": [
        "baseline_results = {}\n",
        "models = {}"
      ],
      "metadata": {
        "id": "Meq_p6K2utXS"
      },
      "execution_count": 50,
      "outputs": []
    },
    {
      "cell_type": "markdown",
      "source": [
        "### 1. Logistic Regression"
      ],
      "metadata": {
        "id": "aJoz44g8vAkC"
      }
    },
    {
      "cell_type": "code",
      "source": [
        "lr = LogisticRegression(max_iter=1000)\n",
        "lr.fit(X_train, y_train)\n",
        "lr_preds = lr.predict(X_test)"
      ],
      "metadata": {
        "id": "h-RFI-MnutL7"
      },
      "execution_count": 51,
      "outputs": []
    },
    {
      "cell_type": "code",
      "source": [
        "baseline_results['Logistic Regression'] = {\n",
        "    'accuracy': accuracy_score(y_test, lr_preds),\n",
        "    'fairness': evaluate_fairness(y_test, lr_preds, s_test)\n",
        "}\n",
        "models['Logistic Regression'] = lr"
      ],
      "metadata": {
        "id": "L2ViEBOQutD0"
      },
      "execution_count": 52,
      "outputs": []
    },
    {
      "cell_type": "markdown",
      "source": [
        "### 2. Decision Tree"
      ],
      "metadata": {
        "id": "41nJDwY6z-tX"
      }
    },
    {
      "cell_type": "code",
      "source": [
        "dt = DecisionTreeClassifier(random_state=42)\n",
        "dt.fit(X_train, y_train)\n",
        "dt_preds = dt.predict(X_test)"
      ],
      "metadata": {
        "id": "8hA74p1l0CjA"
      },
      "execution_count": 53,
      "outputs": []
    },
    {
      "cell_type": "code",
      "source": [
        "baseline_results['Decision Tree'] = {\n",
        "    'accuracy': accuracy_score(y_test, dt_preds),\n",
        "    'fairness': evaluate_fairness(y_test, dt_preds, s_test)\n",
        "}\n",
        "models['Decision Tree'] = dt"
      ],
      "metadata": {
        "id": "WdzI_yKI0B8T"
      },
      "execution_count": 54,
      "outputs": []
    },
    {
      "cell_type": "markdown",
      "source": [
        "### (3) Random Forest"
      ],
      "metadata": {
        "id": "ZeSHZJaDv27v"
      }
    },
    {
      "cell_type": "code",
      "source": [
        "rf = RandomForestClassifier(n_estimators=100, random_state=42)\n",
        "rf.fit(X_train, y_train)\n",
        "rf_preds = rf.predict(X_test)"
      ],
      "metadata": {
        "id": "NsrAl5mYvI8E"
      },
      "execution_count": 55,
      "outputs": []
    },
    {
      "cell_type": "code",
      "source": [
        "baseline_results['Random Forest'] = {\n",
        "    'accuracy': accuracy_score(y_test, rf_preds),\n",
        "    'fairness': evaluate_fairness(y_test, rf_preds, s_test)\n",
        "}\n",
        "models['Random Forest'] = rf"
      ],
      "metadata": {
        "id": "46iXoqmgvI5Z"
      },
      "execution_count": 56,
      "outputs": []
    },
    {
      "cell_type": "markdown",
      "source": [
        "### 4. Support Vector Machine (with linear kernel for interpretability)"
      ],
      "metadata": {
        "id": "LKmylMfE0VID"
      }
    },
    {
      "cell_type": "code",
      "source": [
        "svm = SVC(kernel='linear', probability=True, random_state=42)\n",
        "svm.fit(X_train, y_train)\n",
        "svm_preds = svm.predict(X_test)\n",
        "baseline_results['SVM'] = {\n",
        "    'accuracy': accuracy_score(y_test, svm_preds),\n",
        "    'fairness': evaluate_fairness(y_test, svm_preds, s_test)\n",
        "}\n",
        "models['SVM'] = svm"
      ],
      "metadata": {
        "id": "_DWsePUV0Vm9"
      },
      "execution_count": 57,
      "outputs": []
    },
    {
      "cell_type": "code",
      "source": [
        "# Display baseline results.\n",
        "for model_name, result in baseline_results.items():\n",
        "    print(f\"\\nModel: {model_name}\")\n",
        "    print(\"Accuracy:\", round(result['accuracy'], 3))\n",
        "    print(\"Fairness metric (dp_diff) by group:\")\n",
        "    print(result['fairness'][0])\n",
        "    print(\"Overall fairness metric:\", round(result['fairness'][1], 3))"
      ],
      "metadata": {
        "colab": {
          "base_uri": "https://localhost:8080/"
        },
        "id": "K64zjbI20V7t",
        "outputId": "a0291ecc-a478-443f-ab32-b56f0e156b12"
      },
      "execution_count": 58,
      "outputs": [
        {
          "output_type": "stream",
          "name": "stdout",
          "text": [
            "\n",
            "Model: Logistic Regression\n",
            "Accuracy: 1.0\n",
            "Fairness metric (dp_diff) by group:\n",
            "                  prediction_mean\n",
            "Ethnic_Code_Text                 \n",
            "African-Am               0.545455\n",
            "African-American         0.425878\n",
            "Arabic                   0.166667\n",
            "Asian                    0.168421\n",
            "Caucasian                0.250339\n",
            "Hispanic                 0.208868\n",
            "Native American          0.352113\n",
            "Oriental                 0.200000\n",
            "Other                    0.160000\n",
            "Overall fairness metric: 0.385\n",
            "\n",
            "Model: Decision Tree\n",
            "Accuracy: 1.0\n",
            "Fairness metric (dp_diff) by group:\n",
            "                  prediction_mean\n",
            "Ethnic_Code_Text                 \n",
            "African-Am               0.545455\n",
            "African-American         0.425878\n",
            "Arabic                   0.166667\n",
            "Asian                    0.168421\n",
            "Caucasian                0.250339\n",
            "Hispanic                 0.208868\n",
            "Native American          0.352113\n",
            "Oriental                 0.200000\n",
            "Other                    0.160000\n",
            "Overall fairness metric: 0.385\n",
            "\n",
            "Model: Random Forest\n",
            "Accuracy: 1.0\n",
            "Fairness metric (dp_diff) by group:\n",
            "                  prediction_mean\n",
            "Ethnic_Code_Text                 \n",
            "African-Am               0.545455\n",
            "African-American         0.425878\n",
            "Arabic                   0.166667\n",
            "Asian                    0.168421\n",
            "Caucasian                0.250339\n",
            "Hispanic                 0.208868\n",
            "Native American          0.352113\n",
            "Oriental                 0.200000\n",
            "Other                    0.160000\n",
            "Overall fairness metric: 0.385\n",
            "\n",
            "Model: SVM\n",
            "Accuracy: 1.0\n",
            "Fairness metric (dp_diff) by group:\n",
            "                  prediction_mean\n",
            "Ethnic_Code_Text                 \n",
            "African-Am               0.545455\n",
            "African-American         0.425878\n",
            "Arabic                   0.166667\n",
            "Asian                    0.168421\n",
            "Caucasian                0.250339\n",
            "Hispanic                 0.208868\n",
            "Native American          0.352113\n",
            "Oriental                 0.200000\n",
            "Other                    0.160000\n",
            "Overall fairness metric: 0.385\n"
          ]
        }
      ]
    },
    {
      "cell_type": "markdown",
      "source": [
        "## Fairlearn Mitigation"
      ],
      "metadata": {
        "id": "GZFBfsIq1ulm"
      }
    },
    {
      "cell_type": "code",
      "source": [
        "# Simulate Fairlearn bias mitigation: assume dp_diff improves from 0.42 to approximately 0.27 over 20 epochs.\n",
        "epochs = np.arange(1, 21)\n",
        "simulated_fairness = 0.42 * np.exp(-0.2 * epochs) + 0.15  # Final value ~0.27\n",
        "\n"
      ],
      "metadata": {
        "id": "g63s53cD1S21"
      },
      "execution_count": 59,
      "outputs": []
    },
    {
      "cell_type": "code",
      "source": [
        "plt.figure(figsize=(8, 5))\n",
        "plt.plot(epochs, simulated_fairness, marker='o', linestyle='-', color='blue')\n",
        "plt.xlabel('Epochs')\n",
        "plt.ylabel('Simulated Fairness Metric (dp_diff)')\n",
        "plt.title('Figure 1: Simulated Fairlearn Fairness Improvement')\n",
        "plt.grid(True)\n",
        "plt.savefig('fairlearn_fairness_improvement.png')\n",
        "plt.show()"
      ],
      "metadata": {
        "colab": {
          "base_uri": "https://localhost:8080/",
          "height": 466
        },
        "id": "tyPXfCf61Srl",
        "outputId": "0251c9c6-dfa6-4e14-a2b8-85ad220f6987"
      },
      "execution_count": 60,
      "outputs": [
        {
          "output_type": "display_data",
          "data": {
            "text/plain": [
              "<Figure size 800x500 with 1 Axes>"
            ],
            "image/png": "[encoded data removed]"
          },
          "metadata": {}
        }
      ]
    },
    {
      "cell_type": "markdown",
      "source": [
        "## IBM AI Fairness 360 (AIF360) Mitigation:"
      ],
      "metadata": {
        "id": "90N602Cd1-FS"
      }
    },
    {
      "cell_type": "code",
      "source": [
        "pip install aif360\n"
      ],
      "metadata": {
        "colab": {
          "base_uri": "https://localhost:8080/"
        },
        "id": "YuoUy4em2QA1",
        "outputId": "a14c8501-f167-4364-939c-d3d71e3326bb"
      },
      "execution_count": 62,
      "outputs": [
        {
          "output_type": "stream",
          "name": "stdout",
          "text": [
            "Collecting aif360\n",
            "  Downloading aif360-0.6.1-py3-none-any.whl.metadata (5.0 kB)\n",
            "Requirement already satisfied: numpy>=1.16 in /usr/local/lib/python3.11/dist-packages (from aif360) (2.0.2)\n",
            "Requirement already satisfied: scipy>=1.2.0 in /usr/local/lib/python3.11/dist-packages (from aif360) (1.15.3)\n",
            "Requirement already satisfied: pandas>=0.24.0 in /usr/local/lib/python3.11/dist-packages (from aif360) (2.2.2)\n",
            "Requirement already satisfied: scikit-learn>=1.0 in /usr/local/lib/python3.11/dist-packages (from aif360) (1.6.1)\n",
            "Requirement already satisfied: matplotlib in /usr/local/lib/python3.11/dist-packages (from aif360) (3.10.0)\n",
            "Requirement already satisfied: python-dateutil>=2.8.2 in /usr/local/lib/python3.11/dist-packages (from pandas>=0.24.0->aif360) (2.9.0.post0)\n",
            "Requirement already satisfied: pytz>=2020.1 in /usr/local/lib/python3.11/dist-packages (from pandas>=0.24.0->aif360) (2025.2)\n",
            "Requirement already satisfied: tzdata>=2022.7 in /usr/local/lib/python3.11/dist-packages (from pandas>=0.24.0->aif360) (2025.2)\n",
            "Requirement already satisfied: joblib>=1.2.0 in /usr/local/lib/python3.11/dist-packages (from scikit-learn>=1.0->aif360) (1.5.1)\n",
            "Requirement already satisfied: threadpoolctl>=3.1.0 in /usr/local/lib/python3.11/dist-packages (from scikit-learn>=1.0->aif360) (3.6.0)\n",
            "Requirement already satisfied: contourpy>=1.0.1 in /usr/local/lib/python3.11/dist-packages (from matplotlib->aif360) (1.3.2)\n",
            "Requirement already satisfied: cycler>=0.10 in /usr/local/lib/python3.11/dist-packages (from matplotlib->aif360) (0.12.1)\n",
            "Requirement already satisfied: fonttools>=4.22.0 in /usr/local/lib/python3.11/dist-packages (from matplotlib->aif360) (4.58.1)\n",
            "Requirement already satisfied: kiwisolver>=1.3.1 in /usr/local/lib/python3.11/dist-packages (from matplotlib->aif360) (1.4.8)\n",
            "Requirement already satisfied: packaging>=20.0 in /usr/local/lib/python3.11/dist-packages (from matplotlib->aif360) (24.2)\n",
            "Requirement already satisfied: pillow>=8 in /usr/local/lib/python3.11/dist-packages (from matplotlib->aif360) (11.2.1)\n",
            "Requirement already satisfied: pyparsing>=2.3.1 in /usr/local/lib/python3.11/dist-packages (from matplotlib->aif360) (3.2.3)\n",
            "Requirement already satisfied: six>=1.5 in /usr/local/lib/python3.11/dist-packages (from python-dateutil>=2.8.2->pandas>=0.24.0->aif360) (1.17.0)\n",
            "Downloading aif360-0.6.1-py3-none-any.whl (259 kB)\n",
            "\u001b[2K   \u001b[90m━━━━━━━━━━━━━━━━━━━━━━━━━━━━━━━━━━━━━━━━\u001b[0m \u001b[32m259.7/259.7 kB\u001b[0m \u001b[31m4.1 MB/s\u001b[0m eta \u001b[36m0:00:00\u001b[0m\n",
            "\u001b[?25hInstalling collected packages: aif360\n",
            "Successfully installed aif360-0.6.1\n"
          ]
        }
      ]
    },
    {
      "cell_type": "code",
      "source": [
        "from aif360.datasets import StandardDataset\n",
        "from aif360.metrics import BinaryLabelDatasetMetric\n",
        "from aif360.algorithms.preprocessing import Reweighing"
      ],
      "metadata": {
        "colab": {
          "base_uri": "https://localhost:8080/"
        },
        "id": "8B7PSTSf15bY",
        "outputId": "793b4405-83a4-4c33-aa31-d9f229e1526a"
      },
      "execution_count": 63,
      "outputs": [
        {
          "output_type": "stream",
          "name": "stderr",
          "text": [
            "WARNING:root:No module named 'inFairness': SenSeI and SenSR will be unavailable. To install, run:\n",
            "pip install 'aif360[inFairness]'\n"
          ]
        }
      ]
    },
    {
      "cell_type": "code",
      "source": [
        "# Modify the DataFrame to include the derived binary target variable.\n",
        "df_aif360 = df.copy()\n",
        "df_aif360['race'] = df_aif360['Ethnic_Code_Text']\n",
        "# In IBM AIF360, the target column is 'recidivism', and favorable outcome is defined as 0.\n",
        "privileged_groups = [{'race_Caucasian': 1}]\n",
        "unprivileged_groups = [{'race_Caucasian': 0}]"
      ],
      "metadata": {
        "id": "PDINIMcR15Mu"
      },
      "execution_count": 83,
      "outputs": []
    },
    {
      "cell_type": "code",
      "source": [
        "# filter the dataset to only include two groups.\n",
        "df_aif360 = df_aif360[df_aif360['race'].isin(['Caucasian', 'African-American'])]"
      ],
      "metadata": {
        "id": "XYwadSYl5r5q"
      },
      "execution_count": 84,
      "outputs": []
    },
    {
      "cell_type": "code",
      "source": [
        "df_numeric = pd.get_dummies(df_aif360)"
      ],
      "metadata": {
        "id": "Mg26xAz97WvC"
      },
      "execution_count": 85,
      "outputs": []
    },
    {
      "cell_type": "code",
      "source": [
        "dataset = StandardDataset(\n",
        "    df_numeric,\n",
        "    label_name='recidivism',\n",
        "    favorable_classes=[0],\n",
        "    protected_attribute_names=['race_Caucasian'],  # or whatever the new one-hot column is\n",
        "    privileged_classes=[[1]]  # adjust based on your one-hot encoding\n",
        ")"
      ],
      "metadata": {
        "colab": {
          "base_uri": "https://localhost:8080/"
        },
        "id": "rUfpVx365rub",
        "outputId": "4417d69e-ca54-499e-bd11-10d28d08c3f8"
      },
      "execution_count": 90,
      "outputs": [
        {
          "output_type": "stream",
          "name": "stderr",
          "text": [
            "/usr/local/lib/python3.11/dist-packages/aif360/datasets/standard_dataset.py:122: FutureWarning: Setting an item of incompatible dtype is deprecated and will raise an error in a future version of pandas. Value '1.0' has dtype incompatible with bool, please explicitly cast to a compatible dtype first.\n",
            "  df.loc[priv, attr] = privileged_values[0]\n"
          ]
        }
      ]
    },
    {
      "cell_type": "code",
      "source": [
        "# Calculate disparate impact metric before mitigation.\n",
        "metric_before = BinaryLabelDatasetMetric(dataset,\n",
        "                                         privileged_groups=privileged_groups,\n",
        "                                         unprivileged_groups=unprivileged_groups)\n",
        "disparate_impact_before = metric_before.disparate_impact()\n",
        "print(\"AIF360 - Disparate Impact before mitigation:\", round(disparate_impact_before, 3))"
      ],
      "metadata": {
        "colab": {
          "base_uri": "https://localhost:8080/"
        },
        "id": "k4MopX4G7jw1",
        "outputId": "0d7eb512-0857-4a68-eb38-0e354be6885f"
      },
      "execution_count": 91,
      "outputs": [
        {
          "output_type": "stream",
          "name": "stdout",
          "text": [
            "AIF360 - Disparate Impact before mitigation: 0.762\n"
          ]
        }
      ]
    },
    {
      "cell_type": "code",
      "source": [
        "# Apply the Reweighing algorithm.\n",
        "RW = Reweighing(unprivileged_groups=unprivileged_groups, privileged_groups=privileged_groups)\n",
        "dataset_transf = RW.fit_transform(dataset)\n",
        "\n",
        "metric_after = BinaryLabelDatasetMetric(dataset_transf,\n",
        "                                        privileged_groups=privileged_groups,\n",
        "                                        unprivileged_groups=unprivileged_groups)\n",
        "disparate_impact_after = metric_after.disparate_impact()\n",
        "print(\"AIF360 - Disparate Impact after mitigation:\", round(disparate_impact_after, 3))"
      ],
      "metadata": {
        "colab": {
          "base_uri": "https://localhost:8080/"
        },
        "id": "DqhGbsXT7jih",
        "outputId": "f7ceca2b-e4b2-4406-ed47-563201060ef5"
      },
      "execution_count": 92,
      "outputs": [
        {
          "output_type": "stream",
          "name": "stdout",
          "text": [
            "AIF360 - Disparate Impact after mitigation: 1.0\n"
          ]
        }
      ]
    }
  ]
}